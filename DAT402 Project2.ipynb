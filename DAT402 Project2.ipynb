{
 "cells": [
  {
   "cell_type": "markdown",
   "id": "1af4f0b0",
   "metadata": {},
   "source": [
    "Siandelle Pamplona - DAT402 Project2\n",
    "\n",
    "# Analyzing Diabetes Risk Factors: Predictive Models"
   ]
  },
  {
   "cell_type": "markdown",
   "id": "e8c48f19",
   "metadata": {},
   "source": [
    "## Introduction\n",
    "\n",
    "In the face of the escalating diabetes epidemic, affecting 38.4 million people in the United States, accounting for 11.6% of the population, this project will use multiple predictive models to explore the importance and effects of different diabetes risk factors. The dataset provides multiple variables, such as high blood pressure, high cholesterol, BMI, smoking habits, as well as socio-economic factors. \n",
    "\n",
    "Statistics from the Centers for Disease Control and Prevention (CDC), reveal that out of the total diabetic population, 29.7 million are diagnosed, leaving 8.7 million undiagnosed (22.8%). Moreover, a staggering 97.6 million individuals age 18 or over struggle with pre-diabetes, highlighting the urgency of understanding and predicting factors that influence diabetes.\n",
    "\n",
    "This project will explore comprehensive analysis of diabetes risk factors, employing predictive models to unravel the intricate relationships between diverse health indicators and the likelihood of diabetes. "
   ]
  },
  {
   "cell_type": "code",
   "execution_count": 55,
   "id": "b0eab8a3",
   "metadata": {},
   "outputs": [],
   "source": [
    "import pandas as pd\n",
    "import numpy as np\n",
    "import seaborn as sns\n",
    "import matplotlib.pyplot as plt\n",
    "from sklearn.model_selection import train_test_split\n",
    "from sklearn.linear_model import LinearRegression\n",
    "from sklearn.metrics import mean_squared_error, r2_score\n",
    "from sklearn.neighbors import KNeighborsClassifier\n",
    "from sklearn.metrics import confusion_matrix, ConfusionMatrixDisplay\n",
    "from sklearn.metrics import accuracy_score\n",
    "from sklearn.ensemble import RandomForestClassifier\n",
    "from sklearn.model_selection import cross_val_score\n",
    "\n",
    "\n",
    "\n",
    "data = pd.read_csv(\"diabetes_012_health_indicators_BRFSS2015.csv\")"
   ]
  },
  {
   "cell_type": "code",
   "execution_count": 56,
   "id": "5de00ce2",
   "metadata": {},
   "outputs": [
    {
     "data": {
      "text/html": [
       "<div>\n",
       "<style scoped>\n",
       "    .dataframe tbody tr th:only-of-type {\n",
       "        vertical-align: middle;\n",
       "    }\n",
       "\n",
       "    .dataframe tbody tr th {\n",
       "        vertical-align: top;\n",
       "    }\n",
       "\n",
       "    .dataframe thead th {\n",
       "        text-align: right;\n",
       "    }\n",
       "</style>\n",
       "<table border=\"1\" class=\"dataframe\">\n",
       "  <thead>\n",
       "    <tr style=\"text-align: right;\">\n",
       "      <th></th>\n",
       "      <th>Diabetes_012</th>\n",
       "      <th>HighBP</th>\n",
       "      <th>HighChol</th>\n",
       "      <th>CholCheck</th>\n",
       "      <th>BMI</th>\n",
       "      <th>Smoker</th>\n",
       "      <th>Stroke</th>\n",
       "      <th>HeartDiseaseorAttack</th>\n",
       "      <th>PhysActivity</th>\n",
       "      <th>Fruits</th>\n",
       "      <th>...</th>\n",
       "      <th>AnyHealthcare</th>\n",
       "      <th>NoDocbcCost</th>\n",
       "      <th>GenHlth</th>\n",
       "      <th>MentHlth</th>\n",
       "      <th>PhysHlth</th>\n",
       "      <th>DiffWalk</th>\n",
       "      <th>Sex</th>\n",
       "      <th>Age</th>\n",
       "      <th>Education</th>\n",
       "      <th>Income</th>\n",
       "    </tr>\n",
       "  </thead>\n",
       "  <tbody>\n",
       "    <tr>\n",
       "      <th>0</th>\n",
       "      <td>0.0</td>\n",
       "      <td>1.0</td>\n",
       "      <td>1.0</td>\n",
       "      <td>1.0</td>\n",
       "      <td>40.0</td>\n",
       "      <td>1.0</td>\n",
       "      <td>0.0</td>\n",
       "      <td>0.0</td>\n",
       "      <td>0.0</td>\n",
       "      <td>0.0</td>\n",
       "      <td>...</td>\n",
       "      <td>1.0</td>\n",
       "      <td>0.0</td>\n",
       "      <td>5.0</td>\n",
       "      <td>18.0</td>\n",
       "      <td>15.0</td>\n",
       "      <td>1.0</td>\n",
       "      <td>0.0</td>\n",
       "      <td>9.0</td>\n",
       "      <td>4.0</td>\n",
       "      <td>3.0</td>\n",
       "    </tr>\n",
       "    <tr>\n",
       "      <th>1</th>\n",
       "      <td>0.0</td>\n",
       "      <td>0.0</td>\n",
       "      <td>0.0</td>\n",
       "      <td>0.0</td>\n",
       "      <td>25.0</td>\n",
       "      <td>1.0</td>\n",
       "      <td>0.0</td>\n",
       "      <td>0.0</td>\n",
       "      <td>1.0</td>\n",
       "      <td>0.0</td>\n",
       "      <td>...</td>\n",
       "      <td>0.0</td>\n",
       "      <td>1.0</td>\n",
       "      <td>3.0</td>\n",
       "      <td>0.0</td>\n",
       "      <td>0.0</td>\n",
       "      <td>0.0</td>\n",
       "      <td>0.0</td>\n",
       "      <td>7.0</td>\n",
       "      <td>6.0</td>\n",
       "      <td>1.0</td>\n",
       "    </tr>\n",
       "    <tr>\n",
       "      <th>2</th>\n",
       "      <td>0.0</td>\n",
       "      <td>1.0</td>\n",
       "      <td>1.0</td>\n",
       "      <td>1.0</td>\n",
       "      <td>28.0</td>\n",
       "      <td>0.0</td>\n",
       "      <td>0.0</td>\n",
       "      <td>0.0</td>\n",
       "      <td>0.0</td>\n",
       "      <td>1.0</td>\n",
       "      <td>...</td>\n",
       "      <td>1.0</td>\n",
       "      <td>1.0</td>\n",
       "      <td>5.0</td>\n",
       "      <td>30.0</td>\n",
       "      <td>30.0</td>\n",
       "      <td>1.0</td>\n",
       "      <td>0.0</td>\n",
       "      <td>9.0</td>\n",
       "      <td>4.0</td>\n",
       "      <td>8.0</td>\n",
       "    </tr>\n",
       "    <tr>\n",
       "      <th>3</th>\n",
       "      <td>0.0</td>\n",
       "      <td>1.0</td>\n",
       "      <td>0.0</td>\n",
       "      <td>1.0</td>\n",
       "      <td>27.0</td>\n",
       "      <td>0.0</td>\n",
       "      <td>0.0</td>\n",
       "      <td>0.0</td>\n",
       "      <td>1.0</td>\n",
       "      <td>1.0</td>\n",
       "      <td>...</td>\n",
       "      <td>1.0</td>\n",
       "      <td>0.0</td>\n",
       "      <td>2.0</td>\n",
       "      <td>0.0</td>\n",
       "      <td>0.0</td>\n",
       "      <td>0.0</td>\n",
       "      <td>0.0</td>\n",
       "      <td>11.0</td>\n",
       "      <td>3.0</td>\n",
       "      <td>6.0</td>\n",
       "    </tr>\n",
       "    <tr>\n",
       "      <th>4</th>\n",
       "      <td>0.0</td>\n",
       "      <td>1.0</td>\n",
       "      <td>1.0</td>\n",
       "      <td>1.0</td>\n",
       "      <td>24.0</td>\n",
       "      <td>0.0</td>\n",
       "      <td>0.0</td>\n",
       "      <td>0.0</td>\n",
       "      <td>1.0</td>\n",
       "      <td>1.0</td>\n",
       "      <td>...</td>\n",
       "      <td>1.0</td>\n",
       "      <td>0.0</td>\n",
       "      <td>2.0</td>\n",
       "      <td>3.0</td>\n",
       "      <td>0.0</td>\n",
       "      <td>0.0</td>\n",
       "      <td>0.0</td>\n",
       "      <td>11.0</td>\n",
       "      <td>5.0</td>\n",
       "      <td>4.0</td>\n",
       "    </tr>\n",
       "  </tbody>\n",
       "</table>\n",
       "<p>5 rows × 22 columns</p>\n",
       "</div>"
      ],
      "text/plain": [
       "   Diabetes_012  HighBP  HighChol  CholCheck   BMI  Smoker  Stroke  \\\n",
       "0           0.0     1.0       1.0        1.0  40.0     1.0     0.0   \n",
       "1           0.0     0.0       0.0        0.0  25.0     1.0     0.0   \n",
       "2           0.0     1.0       1.0        1.0  28.0     0.0     0.0   \n",
       "3           0.0     1.0       0.0        1.0  27.0     0.0     0.0   \n",
       "4           0.0     1.0       1.0        1.0  24.0     0.0     0.0   \n",
       "\n",
       "   HeartDiseaseorAttack  PhysActivity  Fruits  ...  AnyHealthcare  \\\n",
       "0                   0.0           0.0     0.0  ...            1.0   \n",
       "1                   0.0           1.0     0.0  ...            0.0   \n",
       "2                   0.0           0.0     1.0  ...            1.0   \n",
       "3                   0.0           1.0     1.0  ...            1.0   \n",
       "4                   0.0           1.0     1.0  ...            1.0   \n",
       "\n",
       "   NoDocbcCost  GenHlth  MentHlth  PhysHlth  DiffWalk  Sex   Age  Education  \\\n",
       "0          0.0      5.0      18.0      15.0       1.0  0.0   9.0        4.0   \n",
       "1          1.0      3.0       0.0       0.0       0.0  0.0   7.0        6.0   \n",
       "2          1.0      5.0      30.0      30.0       1.0  0.0   9.0        4.0   \n",
       "3          0.0      2.0       0.0       0.0       0.0  0.0  11.0        3.0   \n",
       "4          0.0      2.0       3.0       0.0       0.0  0.0  11.0        5.0   \n",
       "\n",
       "   Income  \n",
       "0     3.0  \n",
       "1     1.0  \n",
       "2     8.0  \n",
       "3     6.0  \n",
       "4     4.0  \n",
       "\n",
       "[5 rows x 22 columns]"
      ]
     },
     "execution_count": 56,
     "metadata": {},
     "output_type": "execute_result"
    }
   ],
   "source": [
    "data.head() #show first 5 rows of the dataset"
   ]
  },
  {
   "cell_type": "markdown",
   "id": "322b06a9",
   "metadata": {},
   "source": [
    "### Variables\n",
    "| Variables | Description |\n",
    "|-----------|-------------|\n",
    "| Diabetes_012 | 0 indicates no diabetes, 1 = Prediabetes, 2 = Diabetes | \n",
    "| HighBP |0 indicates no high blood pressure, 1 = High BP |\n",
    "| HighChol | 0 = No high cholesterol, 1 = High cholesterol |\n",
    "| CholCheck | 0 = No cholesterol check in 5 years, 1 = Yes cholesterol check in 5 years |\n",
    "| BMI | Body Mass Index |\n",
    "| Smoker | 0 = Not a smoker, 1 = Have ever smoked at least 100 cigarettes (5 packs) |\n",
    "| Stroke | 0 = Never had a stroke, 1 = Have had a stroke |\n",
    "| HeartDiseaseorAttack | 0 = No coronary heart disease or myocardial infarction,  1 = Yes CHD or MI |\n",
    "| PhysActivity | 0 = No to physical activity in past 30 days, 1 = Yes |\n",
    "| Fruits | 0 = Does not consume fruit 1 or more times per day, 1 = Yes |\n",
    "| Veggies | 0 = Does not consume vegetables 1 or more times per day, 1 = Yes |\n",
    "| HvyAlcoholConsumption | Adult men having < 14 drinks/week, adult women having < 7 drinks/week. 0 = No, 1 = Yes |\n",
    "| AnyHealthCare | Having ay kind of health care coverage. 0 = No, 1 = Yes |\n",
    "| NoDocbcCost | Past 12 months when cost hindered ability to see doctor. 0 = No, 1 = Yes |\n",
    "| Genhlth | General health (scale) : 1 = Excellent, 5 = Poor |\n",
    "| MentalHlth | How many days in the past 30 days was patients mental health poor? # of Days: 1 - 30 |\n",
    "| PhysHlth | How many days in the past 30 days was patients physical health poor? Including physical injuries. # of Days: 1 - 30 |\n",
    "| DiffWalk | Difficulty walking or climbing stairs. 0 = No, 1 = Yes |\n",
    "| Sex | 0 = Female, 1 = male |\n",
    "| Age | 13-level age category: 1 = age 18-24, 9 = age 60-64, 13 = 80 or older\n",
    "| Education | Scale 1-6. 1 = Never attended school, 2 = Grade 1-8, 3 = Grade 9 - 11, 4 = Grade 12 or GED, 5 = 1-3 years college (some college), 6 = 4 or more years college (college graduate) |\n",
    "| Income | Scale 1-8. 1 = $10,000$ or less , 5 = $35,000$ or less, 8 = $75,000$ or more  |"
   ]
  },
  {
   "cell_type": "markdown",
   "id": "17d7857c",
   "metadata": {},
   "source": [
    "## Linear Regression Model"
   ]
  },
  {
   "cell_type": "code",
   "execution_count": 57,
   "id": "46a6d24f",
   "metadata": {},
   "outputs": [],
   "source": [
    "X = data.drop('Diabetes_012', axis=1) #split data\n",
    "y = data['BMI'] #target variable"
   ]
  },
  {
   "cell_type": "code",
   "execution_count": 58,
   "id": "040b59a3",
   "metadata": {},
   "outputs": [],
   "source": [
    "#split train & test data\n",
    "X_train, X_test, y_train, y_test = train_test_split(X,y, test_size = 0.2, random_state = 42)"
   ]
  },
  {
   "cell_type": "code",
   "execution_count": 59,
   "id": "5a8c3d5b",
   "metadata": {},
   "outputs": [],
   "source": [
    "model = LinearRegression() #create linear regression model\n",
    "model.fit(X_train, y_train)\n",
    "y_pred = model.predict(X_test) #predictions for test set"
   ]
  },
  {
   "cell_type": "code",
   "execution_count": 60,
   "id": "e91cab80",
   "metadata": {},
   "outputs": [],
   "source": [
    "mse = mean_squared_error(y_test, y_pred) \n",
    "r2 = r2_score(y_test, y_pred)"
   ]
  },
  {
   "cell_type": "code",
   "execution_count": 61,
   "id": "d4f3b2f7",
   "metadata": {},
   "outputs": [
    {
     "name": "stdout",
     "output_type": "stream",
     "text": [
      "Mean Square Error: 8.931872311061313e-25\n",
      "R-squared: 1.0\n"
     ]
    }
   ],
   "source": [
    "print(f\"Mean Square Error: {mse}\")\n",
    "print(f\"R-squared: {r2}\")"
   ]
  },
  {
   "cell_type": "markdown",
   "id": "7ff8d0c5",
   "metadata": {},
   "source": [
    "MSE at 8.93e-27 suggests that the models predictions are closer to actual values, refelcting high accuracy. R2 of 1.0 suggests that this linear regression model precisely captures the relationship between Diabetes indicators and BMI. The prositice correlation affirms that as the as BMI level rise, Diabetes indicator also increases"
   ]
  },
  {
   "cell_type": "code",
   "execution_count": 62,
   "id": "10472b9b",
   "metadata": {
    "scrolled": false
   },
   "outputs": [
    {
     "data": {
      "image/png": "[encoded data removed]",
      "text/plain": [
       "<Figure size 432x288 with 1 Axes>"
      ]
     },
     "metadata": {
      "needs_background": "light"
     },
     "output_type": "display_data"
    }
   ],
   "source": [
    "plt.scatter(y_test, y_pred, color='blue', alpha = 0.5)\n",
    "plt.xlabel(\"Actual Values (y_test)\")\n",
    "plt.ylabel(\"Predicted Values (y_pred) \")\n",
    "plt.title(\"Actual vs. Predicted values\")\n",
    "plt.show()"
   ]
  },
  {
   "cell_type": "markdown",
   "id": "29b64ef0",
   "metadata": {},
   "source": [
    "In this model, a scatterplot was created to visualize the relationship between the Diabetes and BMI (Body Mass Index). The diagonal line indicated a positive correlation between the two variables. As the Diabetes indicator increases from 0 to 2 (0 meaning no diabetes, or only present during pregnancy, 1 meaning prediabetes, and 2 meaning diabetes) BMI levels tend to also be increased. This suggests that individuals with diabetes are more likely to have a higher BMI."
   ]
  },
  {
   "cell_type": "markdown",
   "id": "9e3a872f",
   "metadata": {},
   "source": [
    "## K-Nearest Neighbor Model"
   ]
  },
  {
   "cell_type": "markdown",
   "id": "7a514f77",
   "metadata": {},
   "source": [
    "In this section, we will implement the K-Nearest Neighbors (KNN) method for a binary classification task. It loads the dataset containing health-related and non-health related attributes such as High blood pressure, Smoker/non-smoker, BMI, Age, Education, Income, as well as some other features. The KNN classifier is trained on the data, then makes predictions for testing the data. The accuracy calculation measures how well the model predicts the presence or absence of diabetes given the attributes. "
   ]
  },
  {
   "cell_type": "code",
   "execution_count": 63,
   "id": "8987fdcb",
   "metadata": {},
   "outputs": [],
   "source": [
    "X = data.drop(\"Diabetes_012\", axis=1)\n",
    "y = data[\"Diabetes_012\"]"
   ]
  },
  {
   "cell_type": "code",
   "execution_count": 64,
   "id": "b8c367ca",
   "metadata": {},
   "outputs": [],
   "source": [
    "X_train, X_test, y_train, y_test = train_test_split(X, y, test_size=0.2, random_state=42)"
   ]
  },
  {
   "cell_type": "code",
   "execution_count": 65,
   "id": "377446bb",
   "metadata": {},
   "outputs": [],
   "source": [
    "k = 5\n",
    "knn_model = KNeighborsClassifier(n_neighbors = k)\n",
    "knn_model.fit(X_train, y_train)\n",
    "y_pred = knn_model.predict(X_test)"
   ]
  },
  {
   "cell_type": "code",
   "execution_count": 66,
   "id": "5094f740",
   "metadata": {},
   "outputs": [
    {
     "name": "stdout",
     "output_type": "stream",
     "text": [
      "Accuracy: 0.831322926521602\n"
     ]
    }
   ],
   "source": [
    "accuracy = accuracy_score(y_test, y_pred) #calculate accuracy of KNN model\n",
    "print(f\"Accuracy: {accuracy}\") "
   ]
  },
  {
   "cell_type": "markdown",
   "id": "9fd08a4b",
   "metadata": {},
   "source": [
    "The accuracy value of 0.8313, or 83.13% indicates the proportion of correctly classified instances. This means that the KNN model correctly predicted the class labels for approximately 83.13% of the data points. This suggests thar the KNN model is reasonably effective but it may not provide a complete picture."
   ]
  },
  {
   "cell_type": "code",
   "execution_count": 67,
   "id": "e645915b",
   "metadata": {},
   "outputs": [
    {
     "data": {
      "image/png": "[encoded data removed]",
      "text/plain": [
       "<Figure size 648x504 with 1 Axes>"
      ]
     },
     "metadata": {
      "needs_background": "light"
     },
     "output_type": "display_data"
    }
   ],
   "source": [
    "confusion = confusion_matrix(y_test, y_pred)\n",
    "plt.figure(figsize = (9,7))\n",
    "sns.heatmap(confusion, annot=True, fmt = 'g', cmap = 'Blues', cbar = False, square = True, xticklabels = [\"No Diabetes\",\"Pre-Diabetes\", \"Diabetes\"], yticklabels = [\"No Diabetes\", \"Pre-Diabetes\", \"Diabetes\"])\n",
    "plt.xlabel('Predicted')\n",
    "plt.ylabel('Actual')\n",
    "plt.title('Predicted vs. Actual Confusion Matrix')\n",
    "plt.show()"
   ]
  },
  {
   "cell_type": "markdown",
   "id": "7653ab0c",
   "metadata": {},
   "source": [
    "To visualize our KNN model, I have provided a confusion matrix with three classes: \"No diabetes\", \"Pre-Diabetes\", and \"Diabetes\". The count from each class determines the true negatives, true positives, false positives and false negatives:"
   ]
  },
  {
   "cell_type": "markdown",
   "id": "c1120aab",
   "metadata": {},
   "source": [
    "| Class | Column 1 | Column 2 | Column 3 |\n",
    "|-------|----------|----------|----------|\n",
    "|No Diabetes | 40822 true negatives | 26 false positives | 1947 false negatives |\n",
    "|Pre-diabetes | 834 false negatives | 1 true positive | 109 false positives |\n",
    "|Diabetes | 5622 false negatives | 20 false positives | 1355 true positives |"
   ]
  },
  {
   "cell_type": "markdown",
   "id": "dfb646e3",
   "metadata": {},
   "source": [
    "This matrix helps us to evaluate the models capacity to accurately categorize instances into their correct classes and it also highlights any classification errors made by the model. "
   ]
  },
  {
   "cell_type": "markdown",
   "id": "a3f33e93",
   "metadata": {},
   "source": [
    "## Random Forest and Cross-Validation"
   ]
  },
  {
   "cell_type": "code",
   "execution_count": 14,
   "id": "f1e9c8fc",
   "metadata": {},
   "outputs": [],
   "source": [
    "#Random Forest Model\n",
    "model = RandomForestClassifier()"
   ]
  },
  {
   "cell_type": "code",
   "execution_count": 15,
   "id": "d6c39a1c",
   "metadata": {},
   "outputs": [],
   "source": [
    "y_pred = cross_val_score(model, X, y, cv = 5)\n",
    "model.fit(X,y)\n",
    "\n",
    "feature_importance = model.feature_importances_\n",
    "importance_df = pd.DataFrame({'Feature': X.columns, 'Importance': feature_importance})\n",
    "importance_df = importance_df.sort_values(by = 'Importance', ascending = False)"
   ]
  },
  {
   "cell_type": "code",
   "execution_count": 16,
   "id": "293ed9ad",
   "metadata": {
    "scrolled": true
   },
   "outputs": [
    {
     "data": {
      "image/png": "[encoded data removed]",
      "text/plain": [
       "<Figure size 720x432 with 1 Axes>"
      ]
     },
     "metadata": {
      "needs_background": "light"
     },
     "output_type": "display_data"
    }
   ],
   "source": [
    "plt.figure(figsize = (10,6))\n",
    "sns.barplot(x = 'Importance', y='Feature', data = importance_df.head(10))\n",
    "plt.title('Top Predictive Risk Factors for Diabetes')\n",
    "plt.xlabel('Importance')\n",
    "plt.ylabel('Feature')\n",
    "plt.show()"
   ]
  },
  {
   "cell_type": "markdown",
   "id": "25b30054",
   "metadata": {},
   "source": [
    "Using a random forest model evaluated using cross-validation to generate the bar plot above, the visualization shows the top predictive risk factors for diabetes using feature importance scores. Each bar represents a different attribute related to diabetes risk. The length of the bar corresponds to each factor and their importance in predicting diabetes. This visualization summarizes the strongest contributing risk factors to predict diabetes."
   ]
  },
  {
   "cell_type": "markdown",
   "id": "c9a655bc",
   "metadata": {},
   "source": [
    "## Logistic Regression"
   ]
  },
  {
   "cell_type": "code",
   "execution_count": 17,
   "id": "6dd2c3df",
   "metadata": {
    "scrolled": true
   },
   "outputs": [
    {
     "name": "stdout",
     "output_type": "stream",
     "text": [
      "Intercept: [-2.21256385]\n",
      "Coefficients: [[ 0.34812803  0.28501443  0.22846837  0.41046438 -0.0047927   0.02225779\n",
      "   0.06145904 -0.0177331  -0.01951312 -0.01706584 -0.1486021   0.00792483\n",
      "   0.02263556  0.54381056 -0.01304018 -0.0633026   0.04989296  0.12128802\n",
      "   0.38650454 -0.03956768 -0.11470607]]\n",
      "Test Accuracy: 0.8493574582150741\n"
     ]
    }
   ],
   "source": [
    "from sklearn.linear_model import LogisticRegression\n",
    "from sklearn.model_selection import train_test_split\n",
    "from sklearn.preprocessing import StandardScaler\n",
    "import pandas as pd\n",
    "\n",
    "data['Diabetes_binary'] = data['Diabetes_012'].apply(lambda x:1 if x in [1,2] else 0)\n",
    "independent_vars = ['HighBP', 'HighChol', 'CholCheck', 'BMI', 'Smoker', 'Stroke',\n",
    "                    'HeartDiseaseorAttack', 'PhysActivity', 'Fruits', 'Veggies',\n",
    "                    'HvyAlcoholConsump', 'AnyHealthcare', 'NoDocbcCost',\n",
    "                    'GenHlth', 'MentHlth', 'PhysHlth', 'DiffWalk', 'Sex', 'Age',\n",
    "                    'Education', 'Income']\n",
    "\n",
    "X = data[independent_vars]\n",
    "y = data['Diabetes_binary']\n",
    "\n",
    "X_train, X_test, y_train, y_test = train_test_split(X, y, test_size = 0.2, random_state=42)\n",
    "\n",
    "scaler = StandardScaler()\n",
    "X_train_scaled = scaler.fit_transform(X_train)\n",
    "X_test_scaled = scaler.transform(X_test)\n",
    "\n",
    "model = LogisticRegression()\n",
    "model.fit(X_train_scaled, y_train)\n",
    "\n",
    "print(\"Intercept:\", model.intercept_)\n",
    "print(\"Coefficients:\", model.coef_)\n",
    "\n",
    "accuracy = model.score(X_test_scaled, y_test)\n",
    "print(\"Test Accuracy:\", accuracy)"
   ]
  },
  {
   "cell_type": "code",
   "execution_count": 18,
   "id": "b26a2df9",
   "metadata": {},
   "outputs": [
    {
     "data": {
      "image/png": "[encoded data removed]",
      "text/plain": [
       "<Figure size 720x576 with 1 Axes>"
      ]
     },
     "metadata": {
      "needs_background": "light"
     },
     "output_type": "display_data"
    }
   ],
   "source": [
    "import matplotlib.pyplot as plt\n",
    "import numpy as np\n",
    "\n",
    "cmap = plt.get_cmap('plasma')\n",
    "\n",
    "plt.figure(figsize = (10,8))\n",
    "plt.barh(independent_vars, model.coef_[0], color=cmap(np.linspace(0,1,len(independent_vars))))\n",
    "plt.axvline(x=0, color='black', linestyle='--', linewidth=0.8)\n",
    "plt.title('Logistic Regression Coefficients')\n",
    "plt.xlabel('Coefficient Value')\n",
    "plt.ylabel('Variables')\n",
    "plt.grid(axis = 'x', linestyle='--', alpha=0.6)\n",
    "plt.show()"
   ]
  },
  {
   "cell_type": "markdown",
   "id": "e812e3c5",
   "metadata": {},
   "source": [
    "This bar graph represets the Logistic Regression results presented above. The sign of the coefficient (negative or positive) indicates the direction of the relationship between the variable and the likelihood of having diabetes. For example, a positive coefficient, as seen in variables like High Blood Pressure and BMI, suggests that an increase in these factors is associated with higher odds of diabetes. Alternatively, variables with negative coefficients such as Phyical Activity, imply that those who have engaged in physical activity within the past thirty days is linked to lower odds of having diabetes compared to those who have not been physically active. "
   ]
  },
  {
   "cell_type": "markdown",
   "id": "4e90e0c2",
   "metadata": {},
   "source": [
    "## Ridge Regression to Predict BMI"
   ]
  },
  {
   "cell_type": "code",
   "execution_count": 15,
   "id": "eb4a0996",
   "metadata": {},
   "outputs": [
    {
     "name": "stdout",
     "output_type": "stream",
     "text": [
      "Ridge Mean Square Error: 6.298156372422518e-19\n",
      "Ridge R-squared: 1.0\n"
     ]
    }
   ],
   "source": [
    "import pandas as pd\n",
    "import numpy as np\n",
    "import matplotlib.pyplot as plt\n",
    "from sklearn.model_selection import train_test_split\n",
    "from sklearn.linear_model import Ridge\n",
    "from sklearn.model_selection import GridSearchCV\n",
    "from sklearn.metrics import mean_squared_error, r2_score\n",
    "\n",
    "\n",
    "data = pd.read_csv(\"diabetes_012_health_indicators_BRFSS2015.csv\")\n",
    "\n",
    "X = data.drop('Diabetes_012', axis =1)\n",
    "y = data['BMI']\n",
    "\n",
    "X_train, X_test, y_train, y_test = train_test_split(X, y, test_size = 0.2, random_state = 42)\n",
    "\n",
    "ridge_model = Ridge()\n",
    "\n",
    "alphas = [0.001, 0.01, 0.1, 1, 10, 100]\n",
    "\n",
    "grid_search = GridSearchCV(ridge_model, {'alpha': alphas}, cv=5)\n",
    "grid_search.fit(X_train, y_train)\n",
    "\n",
    "best_alpha = grid_search.best_params_['alpha']\n",
    "\n",
    "ridge_model = Ridge(alpha=best_alpha)\n",
    "ridge_model.fit(X_train, y_train)\n",
    "\n",
    "y_pred_ridge = ridge_model.predict(X_test)\n",
    "\n",
    "mse_ridge = mean_squared_error(y_test, y_pred_ridge)\n",
    "r2_ridge = r2_score(y_test, y_pred_ridge)\n",
    "\n",
    "print(f\"Ridge Mean Square Error: {mse_ridge}\")\n",
    "print(f\"Ridge R-squared: {r2_ridge}\")\n",
    "      "
   ]
  },
  {
   "cell_type": "markdown",
   "id": "f293a4ab",
   "metadata": {},
   "source": [
    "These results suggest that the Ridge Regression model performs exceptinally well on the test data. The model makes highly accurate preditions of BMI, and the model effectively captures the relationship between the health indicators and BMI. Compared to the linear regression figure at the start of the project, which shows the positive correlation between BMI and Diabetes, this ridge regression model shows a strong indication for predicting BMI values given the other values in the dataset."
   ]
  },
  {
   "cell_type": "code",
   "execution_count": 16,
   "id": "63b2163e",
   "metadata": {},
   "outputs": [
    {
     "data": {
      "image/png": "[encoded data removed]",
      "text/plain": [
       "<Figure size 432x288 with 1 Axes>"
      ]
     },
     "metadata": {
      "needs_background": "light"
     },
     "output_type": "display_data"
    }
   ],
   "source": [
    "plt.scatter(y_test, y_pred_ridge, color=\"purple\", alpha=0.5)\n",
    "plt.xlabel(\"Actual BMI Values (y_test)\")\n",
    "plt.ylabel(\"Predicted BMI Values (Ridge Regression)\")\n",
    "plt.title(\"Actual vs. Predicted BMI Values using Ridge Regression\")\n",
    "plt.show()"
   ]
  },
  {
   "cell_type": "markdown",
   "id": "7922bf81",
   "metadata": {},
   "source": [
    "This Ridge Regression Analysis figure shows the actual versus predicted values of BMI based on various other health indicators from the dataset. The Ridge Mean Square Error value of 6.30e-19 indicates that the model's predicitons align nearly exactly with the actual BMI values in the test set. The ridge regression model captures the relationship beween health indicators and BMI, showcasing its efficacy in predicting BMI values with a high degree of precision and accounting for variability in data points. "
   ]
  },
  {
   "cell_type": "markdown",
   "id": "5e2c7dbe",
   "metadata": {},
   "source": [
    "## Decision Tree Model"
   ]
  },
  {
   "cell_type": "code",
   "execution_count": 21,
   "id": "62e015a1",
   "metadata": {},
   "outputs": [],
   "source": [
    "from sklearn.tree import DecisionTreeClassifier\n",
    "from sklearn.model_selection import train_test_split\n",
    "from sklearn.metrics import accuracy_score, roc_curve, auc\n",
    "import matplotlib.pyplot as plt"
   ]
  },
  {
   "cell_type": "code",
   "execution_count": 28,
   "id": "416f1727",
   "metadata": {},
   "outputs": [],
   "source": [
    "data['Diabetes'] = data['Diabetes_012'].apply(lambda x: 1 if x == 2 else 0)\n",
    "\n",
    "X = data[['Age']]\n",
    "y = data['Diabetes']\n",
    "\n",
    "X_train, X_test, y_train, y_test = train_test_split(X, y, test_size = 0.2, random_state =42)\n",
    "tree_classifier = DecisionTreeClassifier(random_state=42)\n",
    "tree_classifier.fit(X_train[['Age']], y_train) #Age as predictor\n",
    "\n",
    "y_probs_tree = tree_classifier.predict_proba(X_test[['Age']])[:,1]\n",
    "\n",
    "fpr,tpr,thresholds = roc_curve(y_test, y_probs_tree)\n",
    "roc_auc = auc(fpr,tpr)"
   ]
  },
  {
   "cell_type": "code",
   "execution_count": 33,
   "id": "85974987",
   "metadata": {},
   "outputs": [
    {
     "data": {
      "image/png": "[encoded data removed]",
      "text/plain": [
       "<Figure size 720x432 with 1 Axes>"
      ]
     },
     "metadata": {
      "needs_background": "light"
     },
     "output_type": "display_data"
    }
   ],
   "source": [
    "plt.figure(figsize=(10,6))\n",
    "plt.plot(fpr, tpr, color='orange', lw=2, label=f'ROC curve (AUC = {roc_auc:.2f})')\n",
    "plt.plot([0,1], [0,1], color='red', lw=2, linestyle='--')\n",
    "plt.xlabel('False Positive Rate')\n",
    "plt.ylabel('True Positive Rate')\n",
    "plt.title('ROC Curve for Diabetes Prediction given Age')\n",
    "plt.show()"
   ]
  },
  {
   "cell_type": "markdown",
   "id": "0b8b7c99",
   "metadata": {},
   "source": [
    "The provided figure depicts a Receiver Operating Characteristic (ROC) curve, showcasing the Decision Tree Classifier's performance in predicting diabetes based on age. The diagonal dotted line serves as a reference for random results. The orange curve illustrates the model's efficacy in distinguishing between individuals with and without diabetes based on age. A higher Area Under the Curve (AUC) correlates with a more successful predictive model. Notably, the curve in this figure displays an upward bend, signifying that the model outperforms random chance (as represented by the dotted line)."
   ]
  },
  {
   "cell_type": "code",
   "execution_count": 46,
   "id": "0cf58582",
   "metadata": {},
   "outputs": [
    {
     "data": {
      "text/plain": [
       "<Figure size 720x432 with 0 Axes>"
      ]
     },
     "metadata": {},
     "output_type": "display_data"
    },
    {
     "data": {
      "image/png": "[encoded data removed]",
      "text/plain": [
       "<Figure size 432x288 with 2 Axes>"
      ]
     },
     "metadata": {
      "needs_background": "light"
     },
     "output_type": "display_data"
    }
   ],
   "source": [
    "from sklearn.inspection import plot_partial_dependence\n",
    "\n",
    "plt.figure(figsize=(10,6))\n",
    "plot_partial_dependence(tree_classifier, X_train, features=['Age'], grid_resolution=50)\n",
    "plt.title('Partial Dependence Plot for Age in Diabetes Prediction')\n",
    "plt.show()"
   ]
  },
  {
   "cell_type": "markdown",
   "id": "ebc5339b",
   "metadata": {},
   "source": [
    "This partial dependence plot for diabetes prediction given 'Age' illustrates the relationship between age and the predicted probability of having diabetes. Specifically, as the age variable changes, the line on the plot indicated how the model's prediction changes, offering insights into the impact of age on the likelihoog of diabetes according to the trained decsion tree model. The peak from 'Age'range 8-11 shows a more pronounced prediction of diabetes from the age ranges within those scale values. It is important to remember the 'Age' variable in this dataset is a 13-level age category: 1 = age 18-24, 9 = age 60-64, 13 = 80 or older. "
   ]
  },
  {
   "cell_type": "markdown",
   "id": "1be51ecc",
   "metadata": {},
   "source": [
    "## Conclusion\n",
    "\n",
    "This comprehensive analysis of diabetes risk factors and prodictive modeling provides valuable insights into the relationships between various health indicators and the likelihood of diabetes. As we confront the significant public health challenge posed by diabetes, the importance of robust predictive models not only aid in understanding risk factors but also serve as crutial tools for early detection and intervention, potentially mitigating the impact of these health concerns. "
   ]
  },
  {
   "cell_type": "markdown",
   "id": "ca71d2ce",
   "metadata": {},
   "source": [
    "## References"
   ]
  },
  {
   "cell_type": "markdown",
   "id": "0ffc3bfb",
   "metadata": {},
   "source": [
    "Teboul, Alex. “Diabetes Health Indicators Dataset.” Kaggle, 8 Nov. 2021, www.kaggle.com/datasets/alexteboul/diabetes-health-indicators-dataset/data. \n",
    "\n",
    "“National Diabetes Statistics Report.” Centers for Disease Control and Prevention, Centers for Disease Control and Prevention, 14 Nov. 2023, www.cdc.gov/diabetes/data/statistics-report/index.html. "
   ]
  },
  {
   "cell_type": "code",
   "execution_count": null,
   "id": "4118f50e",
   "metadata": {},
   "outputs": [],
   "source": []
  }
 ],
 "metadata": {
  "kernelspec": {
   "display_name": "Python 3",
   "language": "python",
   "name": "python3"
  },
  "language_info": {
   "codemirror_mode": {
    "name": "ipython",
    "version": 3
   },
   "file_extension": ".py",
   "mimetype": "text/x-python",
   "name": "python",
   "nbconvert_exporter": "python",
   "pygments_lexer": "ipython3",
   "version": "3.8.8"
  }
 },
 "nbformat": 4,
 "nbformat_minor": 5
}
